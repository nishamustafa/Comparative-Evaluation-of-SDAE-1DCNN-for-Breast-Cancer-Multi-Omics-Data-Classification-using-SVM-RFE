{
  "cells": [
    {
      "cell_type": "markdown",
      "metadata": {
        "id": "vZf3l2paqIOR"
      },
      "source": [
        "## Import Libraries and Packages"
      ]
    },
    {
      "cell_type": "code",
      "execution_count": 10,
      "metadata": {
        "id": "NGOOVsBwqBXV"
      },
      "outputs": [],
      "source": [
        "import os\n",
        "import pandas as pd\n",
        "import numpy as np\n",
        "from sklearn.model_selection import train_test_split\n",
        "from sklearn.svm import SVC\n",
        "from sklearn.feature_selection import RFE\n",
        "from imblearn.over_sampling import SMOTE\n",
        "import tensorflow as tf\n",
        "from sklearn.preprocessing import StandardScaler\n",
        "from sklearn.metrics import accuracy_score\n",
        "from keras.models import Sequential\n",
        "from keras.layers import Conv1D, Dropout, Dense, Flatten\n",
        "from keras.callbacks import EarlyStopping\n",
        "from sklearn.metrics import accuracy_score\n",
        "from sklearn.metrics import confusion_matrix, classification_report\n",
        "import matplotlib.pyplot as plt\n",
        "import seaborn as sns"
      ]
    },
    {
      "cell_type": "markdown",
      "metadata": {
        "id": "lLE9PMXbqPaF"
      },
      "source": [
        "## Data Collection"
      ]
    },
    {
      "cell_type": "code",
      "execution_count": 11,
      "metadata": {
        "colab": {
          "base_uri": "https://localhost:8080/"
        },
        "id": "-QO0Yl6LqSv3",
        "outputId": "c166e1e9-9fb5-456c-b8bc-b9cbe0a9af60"
      },
      "outputs": [
        {
          "name": "stdout",
          "output_type": "stream",
          "text": [
            "BRCA miRNA : (368, 671)\n",
            "Transposed BRCA miRNA : (671, 368)\n",
            "Dropped BRCA miRNA :  (671, 368)\n",
            "                 hsa.let.7a.1  hsa.let.7a.2  hsa.let.7a.3  hsa.let.7b  \\\n",
            "PatientID                                                               \n",
            "TCGA.3C.AAAU.01      0.068317      0.068932      0.073899    0.524562   \n",
            "TCGA.3C.AALI.01     -0.301684     -0.318009     -0.301310    0.419859   \n",
            "TCGA.3C.AALJ.01     -0.150810     -0.122747     -0.126333   -0.958939   \n",
            "TCGA.3C.AALK.01      0.107831      0.097594      0.095545    0.615389   \n",
            "TCGA.5L.AAT0.01      0.395211      0.412879      0.418441    0.500594   \n",
            "\n",
            "                 hsa.let.7c  hsa.let.7d  hsa.let.7e  hsa.let.7f.1  \\\n",
            "PatientID                                                           \n",
            "TCGA.3C.AAAU.01   -1.656853   -0.038283    0.501125     -2.390084   \n",
            "TCGA.3C.AALI.01   -0.715963    0.460975   -1.999304     -0.659788   \n",
            "TCGA.3C.AALJ.01   -0.971038    0.866585    2.074809      1.080746   \n",
            "TCGA.3C.AALK.01    0.711952   -0.454282    0.227441     -0.735552   \n",
            "TCGA.5L.AAT0.01    0.426323   -1.545556   -0.952282     -0.280966   \n",
            "\n",
            "                 hsa.let.7f.2  hsa.let.7g  ...  hsa.mir.935  hsa.mir.937  \\\n",
            "PatientID                                  ...                             \n",
            "TCGA.3C.AAAU.01     -2.406331   -0.760042  ...     1.795470     0.108421   \n",
            "TCGA.3C.AALI.01     -0.651943   -1.050266  ...    -0.409131     0.569264   \n",
            "TCGA.3C.AALJ.01      1.088164    0.523204  ...     0.742000     1.952380   \n",
            "TCGA.3C.AALK.01     -0.686623   -1.015715  ...    -0.715237     0.119549   \n",
            "TCGA.5L.AAT0.01     -0.233746   -0.818574  ...    -0.925821    -0.248950   \n",
            "\n",
            "                 hsa.mir.939  hsa.mir.940  hsa.mir.942  hsa.mir.95  \\\n",
            "PatientID                                                            \n",
            "TCGA.3C.AAAU.01     0.179279     1.768897     0.226659    0.943346   \n",
            "TCGA.3C.AALI.01     0.188875    -0.453994     0.804807   -0.828843   \n",
            "TCGA.3C.AALJ.01    -1.226285    -0.281690    -0.314543   -0.487207   \n",
            "TCGA.3C.AALK.01    -0.340371    -0.586990    -0.364370   -0.539524   \n",
            "TCGA.5L.AAT0.01    -1.439120    -0.707823    -0.109361   -0.490655   \n",
            "\n",
            "                 hsa.mir.96  hsa.mir.98  hsa.mir.99a  hsa.mir.99b  \n",
            "PatientID                                                          \n",
            "TCGA.3C.AAAU.01    1.552613   -0.143572    -1.251868     1.603022  \n",
            "TCGA.3C.AALI.01    0.599794    1.103662    -0.627587    -1.506825  \n",
            "TCGA.3C.AALJ.01    1.261482    1.940594    -0.848552     0.787948  \n",
            "TCGA.3C.AALK.01    0.856983   -0.831098     0.936474     0.030739  \n",
            "TCGA.5L.AAT0.01    1.188748   -0.885905     0.449284    -0.645458  \n",
            "\n",
            "[5 rows x 368 columns]\n"
          ]
        }
      ],
      "source": [
        "data_miRNA = pd.read_csv(\"C:\\IDCNN\\BRCA_miRNA.csv\",index_col=0)\n",
        "print(\"BRCA miRNA :\", data_miRNA.shape)\n",
        "data_miRNA = np.transpose(data_miRNA)\n",
        "print(\"Transposed BRCA miRNA :\", data_miRNA.shape)\n",
        "data_miRNA = data_miRNA.drop_duplicates()\n",
        "print (\"Dropped BRCA miRNA : \", data_miRNA.shape)\n",
        "\n",
        "data_miRNA.index.name = 'PatientID'\n",
        "print(data_miRNA.head())"
      ]
    },
    {
      "cell_type": "code",
      "execution_count": 12,
      "metadata": {},
      "outputs": [
        {
          "name": "stdout",
          "output_type": "stream",
          "text": [
            "BRCA DNA Methylation : (19049, 671)\n",
            "Transposed BRCA DNA Methylation : (671, 19049)\n",
            "Dropped BRCA DNA Methylation :  (671, 19049)\n",
            "                     A1BG      A1CF       A2M     A2ML1   A3GALT2    A4GALT  \\\n",
            "PatientID                                                                     \n",
            "TCGA.3C.AAAU.01 -1.211396 -1.801239 -0.696763  0.832338  0.857098 -0.695053   \n",
            "TCGA.3C.AALI.01  0.974531 -1.091976 -1.597015  0.758754  0.450506  1.570301   \n",
            "TCGA.3C.AALJ.01  0.633283 -0.258825 -0.873714  0.753608  0.821330 -0.369450   \n",
            "TCGA.3C.AALK.01  0.354642  0.344929 -1.080573  0.548382  0.497375  1.342464   \n",
            "TCGA.5L.AAT0.01 -1.939963 -0.018208 -0.788607  0.589277  0.400632  1.553188   \n",
            "\n",
            "                    A4GNT      AAAS      AACS     AADAC  ...     ZWINT  \\\n",
            "PatientID                                                ...             \n",
            "TCGA.3C.AAAU.01 -0.258891  0.601832 -0.100803 -5.232067  ...  0.835761   \n",
            "TCGA.3C.AALI.01  0.330579 -0.912745 -0.682832 -1.232277  ...  0.664052   \n",
            "TCGA.3C.AALJ.01 -0.315881  0.098281 -5.269406 -2.441139  ... -0.092097   \n",
            "TCGA.3C.AALK.01 -0.518794 -0.274796 -0.187178 -0.232070  ...  0.277971   \n",
            "TCGA.5L.AAT0.01 -0.299152  0.391160 -0.410440 -1.676137  ... -0.008991   \n",
            "\n",
            "                     ZXDA      ZXDB      ZXDC    ZYG11A    ZYG11B       ZYX  \\\n",
            "PatientID                                                                     \n",
            "TCGA.3C.AAAU.01 -2.172061 -0.184735  0.821827 -0.842599  1.079773  0.780058   \n",
            "TCGA.3C.AALI.01 -0.897618 -1.043726  0.746737 -0.188174  1.107008  0.404568   \n",
            "TCGA.3C.AALJ.01 -0.403899  0.163509  0.991162 -0.337345  1.143368 -0.583163   \n",
            "TCGA.3C.AALK.01  0.752473  0.722295  0.352692 -0.606283  1.327138  0.047150   \n",
            "TCGA.5L.AAT0.01  0.693802  0.211610  0.025049 -0.391619  0.825476  0.272223   \n",
            "\n",
            "                    ZZEF1      ZZZ3        pk  \n",
            "PatientID                                      \n",
            "TCGA.3C.AAAU.01  0.747015  0.378339  0.032275  \n",
            "TCGA.3C.AALI.01  0.107306  0.271888 -0.147645  \n",
            "TCGA.3C.AALJ.01  0.034379 -0.170242  0.748945  \n",
            "TCGA.3C.AALK.01  0.014622  0.484366  0.173110  \n",
            "TCGA.5L.AAT0.01  0.298979  0.029261 -0.424061  \n",
            "\n",
            "[5 rows x 19049 columns]\n"
          ]
        }
      ],
      "source": [
        "data_DNA_methylation = pd.read_csv(\"C:\\IDCNN\\BRCA_DNAMethylation.csv\",index_col=0)\n",
        "print(\"BRCA DNA Methylation :\", data_DNA_methylation.shape)\n",
        "data_DNA_methylation = np.transpose(data_DNA_methylation)\n",
        "print(\"Transposed BRCA DNA Methylation :\", data_DNA_methylation.shape)\n",
        "data_DNA_methylation = data_DNA_methylation.drop_duplicates()\n",
        "print (\"Dropped BRCA DNA Methylation : \", data_DNA_methylation.shape)\n",
        "\n",
        "data_DNA_methylation.index.name = 'PatientID'\n",
        "print(data_DNA_methylation.head())"
      ]
    },
    {
      "cell_type": "code",
      "execution_count": 13,
      "metadata": {},
      "outputs": [
        {
          "name": "stdout",
          "output_type": "stream",
          "text": [
            "BRCA CNV : (19568, 671)\n",
            "Transposed BRCA CNV : (671, 19568)\n",
            "Dropped BRCA CNV :  (671, 19568)\n",
            "                     A1BG      A1CF       A2M     A2ML1   A3GALT2    A4GALT  \\\n",
            "PatientID                                                                     \n",
            "TCGA.3C.AAAU.01  0.495252 -0.938762  0.750838  0.748593  1.093743 -0.876388   \n",
            "TCGA.3C.AALI.01  1.028904 -1.575977  0.010864  0.005894 -1.575680 -0.967673   \n",
            "TCGA.3C.AALJ.01  0.003059  0.405308  0.103201  0.098571 -0.706498 -1.643561   \n",
            "TCGA.3C.AALK.01 -0.258705  0.096910 -0.169130 -0.174763  0.199712  0.570857   \n",
            "TCGA.5L.AAT0.01 -0.083232  0.060782 -2.090765 -2.103474  0.376570  0.631333   \n",
            "\n",
            "                    A4GNT      AAAS      AACS     AADAC  ...     ZWINT  \\\n",
            "PatientID                                                ...             \n",
            "TCGA.3C.AAAU.01  1.109460 -1.966983 -1.676420  1.090124  ... -0.837399   \n",
            "TCGA.3C.AALI.01  1.481901 -0.040373 -0.027748  1.213108  ... -1.537275   \n",
            "TCGA.3C.AALJ.01 -0.661117 -1.342185  1.469986 -0.571499  ...  4.165544   \n",
            "TCGA.3C.AALK.01 -0.422884 -0.156210 -0.017618 -0.402285  ...  0.080744   \n",
            "TCGA.5L.AAT0.01 -0.350660 -0.101592  0.100904 -0.312965  ...  0.045801   \n",
            "\n",
            "                     ZXDA      ZXDB      ZXDC    ZYG11A    ZYG11B       ZYX  \\\n",
            "PatientID                                                                     \n",
            "TCGA.3C.AAAU.01  2.020624  1.972719  1.053381  1.254989  1.267331  0.963246   \n",
            "TCGA.3C.AALI.01  4.002085  3.897638  1.589442 -1.781406 -1.793233  1.446230   \n",
            "TCGA.3C.AALJ.01 -0.319977 -0.301093 -0.477515 -0.867769 -0.872324  0.039191   \n",
            "TCGA.3C.AALK.01 -0.316675 -0.297884 -0.267586  0.055935  0.058733 -0.257130   \n",
            "TCGA.5L.AAT0.01 -0.307593 -0.289062 -0.200167  0.238663  0.242915 -0.185487   \n",
            "\n",
            "                    ZZEF1      ZZZ3        pk  \n",
            "PatientID                                      \n",
            "TCGA.3C.AAAU.01 -0.580418  1.715811 -0.864183  \n",
            "TCGA.3C.AALI.01 -0.790000 -1.268621  0.345052  \n",
            "TCGA.3C.AALJ.01 -1.421040 -0.811368 -1.357237  \n",
            "TCGA.3C.AALK.01 -1.377441  0.098802  0.042601  \n",
            "TCGA.5L.AAT0.01 -0.999581  0.204322  0.078553  \n",
            "\n",
            "[5 rows x 19568 columns]\n"
          ]
        }
      ],
      "source": [
        "data_CNV = pd.read_csv(\"C:\\IDCNN\\BRCA_CopyNumberVariation.csv\",index_col=0)\n",
        "print(\"BRCA CNV :\", data_CNV.shape)\n",
        "data_CNV = np.transpose(data_CNV)\n",
        "print(\"Transposed BRCA CNV :\", data_CNV.shape)\n",
        "data_CNV = data_CNV.drop_duplicates()\n",
        "print (\"Dropped BRCA CNV : \", data_CNV.shape)\n",
        "\n",
        "data_CNV.index.name = 'PatientID'\n",
        "print(data_CNV.head())"
      ]
    },
    {
      "cell_type": "code",
      "execution_count": 14,
      "metadata": {},
      "outputs": [
        {
          "name": "stdout",
          "output_type": "stream",
          "text": [
            "BRCA Label : (671, 1)\n",
            "<class 'pandas.core.frame.DataFrame'>\n",
            "RangeIndex: 671 entries, 0 to 670\n",
            "Data columns (total 1 columns):\n",
            " #   Column  Non-Null Count  Dtype \n",
            "---  ------  --------------  ----- \n",
            " 0   Label   671 non-null    object\n",
            "dtypes: object(1)\n",
            "memory usage: 5.4+ KB\n",
            "None\n",
            "  Label\n",
            "0  LumA\n",
            "1  Her2\n",
            "2  LumB\n",
            "3  LumA\n",
            "4  LumA\n",
            "   Label\n",
            "0      1\n",
            "1      4\n",
            "2      2\n",
            "3      1\n",
            "4      1\n"
          ]
        }
      ],
      "source": [
        "data_label = pd.read_csv(\"C:\\IDCNN\\BRCA_label.csv\")\n",
        "print(\"BRCA Label :\", data_label.shape)\n",
        "\n",
        "print(data_label.info())\n",
        "print(data_label.head())\n",
        "\n",
        "# Replace label with numerical data\n",
        "data_label['Label'].replace('Normal', 0 , inplace=True)\n",
        "data_label['Label'].replace('LumA', 1 , inplace=True)\n",
        "data_label['Label'].replace('LumB', 2 , inplace=True)\n",
        "data_label['Label'].replace('Basal', 3 , inplace=True)\n",
        "data_label['Label'].replace('Her2', 4 , inplace=True)\n",
        "\n",
        "print(data_label.head())"
      ]
    },
    {
      "cell_type": "markdown",
      "metadata": {
        "id": "wTFaAkN3xM3Y"
      },
      "source": [
        "## MULTIOMICS"
      ]
    },
    {
      "cell_type": "code",
      "execution_count": 15,
      "metadata": {},
      "outputs": [
        {
          "name": "stdout",
          "output_type": "stream",
          "text": [
            "Combined BRCA Data Shape: (671, 38985)\n",
            "                 hsa.let.7a.1  hsa.let.7a.2  hsa.let.7a.3  hsa.let.7b  \\\n",
            "PatientID                                                               \n",
            "TCGA.3C.AAAU.01      0.068317      0.068932      0.073899    0.524562   \n",
            "TCGA.3C.AALI.01     -0.301684     -0.318009     -0.301310    0.419859   \n",
            "TCGA.3C.AALJ.01     -0.150810     -0.122747     -0.126333   -0.958939   \n",
            "TCGA.3C.AALK.01      0.107831      0.097594      0.095545    0.615389   \n",
            "TCGA.5L.AAT0.01      0.395211      0.412879      0.418441    0.500594   \n",
            "\n",
            "                 hsa.let.7c  hsa.let.7d  hsa.let.7e  hsa.let.7f.1  \\\n",
            "PatientID                                                           \n",
            "TCGA.3C.AAAU.01   -1.656853   -0.038283    0.501125     -2.390084   \n",
            "TCGA.3C.AALI.01   -0.715963    0.460975   -1.999304     -0.659788   \n",
            "TCGA.3C.AALJ.01   -0.971038    0.866585    2.074809      1.080746   \n",
            "TCGA.3C.AALK.01    0.711952   -0.454282    0.227441     -0.735552   \n",
            "TCGA.5L.AAT0.01    0.426323   -1.545556   -0.952282     -0.280966   \n",
            "\n",
            "                 hsa.let.7f.2  hsa.let.7g  ...     ZWINT      ZXDA      ZXDB  \\\n",
            "PatientID                                  ...                                 \n",
            "TCGA.3C.AAAU.01     -2.406331   -0.760042  ... -0.837399  2.020624  1.972719   \n",
            "TCGA.3C.AALI.01     -0.651943   -1.050266  ... -1.537275  4.002085  3.897638   \n",
            "TCGA.3C.AALJ.01      1.088164    0.523204  ...  4.165544 -0.319977 -0.301093   \n",
            "TCGA.3C.AALK.01     -0.686623   -1.015715  ...  0.080744 -0.316675 -0.297884   \n",
            "TCGA.5L.AAT0.01     -0.233746   -0.818574  ...  0.045801 -0.307593 -0.289062   \n",
            "\n",
            "                     ZXDC    ZYG11A    ZYG11B       ZYX     ZZEF1      ZZZ3  \\\n",
            "PatientID                                                                     \n",
            "TCGA.3C.AAAU.01  1.053381  1.254989  1.267331  0.963246 -0.580418  1.715811   \n",
            "TCGA.3C.AALI.01  1.589442 -1.781406 -1.793233  1.446230 -0.790000 -1.268621   \n",
            "TCGA.3C.AALJ.01 -0.477515 -0.867769 -0.872324  0.039191 -1.421040 -0.811368   \n",
            "TCGA.3C.AALK.01 -0.267586  0.055935  0.058733 -0.257130 -1.377441  0.098802   \n",
            "TCGA.5L.AAT0.01 -0.200167  0.238663  0.242915 -0.185487 -0.999581  0.204322   \n",
            "\n",
            "                       pk  \n",
            "PatientID                  \n",
            "TCGA.3C.AAAU.01 -0.864183  \n",
            "TCGA.3C.AALI.01  0.345052  \n",
            "TCGA.3C.AALJ.01 -1.357237  \n",
            "TCGA.3C.AALK.01  0.042601  \n",
            "TCGA.5L.AAT0.01  0.078553  \n",
            "\n",
            "[5 rows x 38985 columns]\n",
            "Multiomics: (671, 38986)\n",
            "                 hsa.let.7a.1  hsa.let.7a.2  hsa.let.7a.3  hsa.let.7b  \\\n",
            "PatientID                                                               \n",
            "TCGA.3C.AAAU.01      0.068317      0.068932      0.073899    0.524562   \n",
            "TCGA.3C.AALI.01     -0.301684     -0.318009     -0.301310    0.419859   \n",
            "TCGA.3C.AALJ.01     -0.150810     -0.122747     -0.126333   -0.958939   \n",
            "TCGA.3C.AALK.01      0.107831      0.097594      0.095545    0.615389   \n",
            "TCGA.5L.AAT0.01      0.395211      0.412879      0.418441    0.500594   \n",
            "\n",
            "                 hsa.let.7c  hsa.let.7d  hsa.let.7e  hsa.let.7f.1  \\\n",
            "PatientID                                                           \n",
            "TCGA.3C.AAAU.01   -1.656853   -0.038283    0.501125     -2.390084   \n",
            "TCGA.3C.AALI.01   -0.715963    0.460975   -1.999304     -0.659788   \n",
            "TCGA.3C.AALJ.01   -0.971038    0.866585    2.074809      1.080746   \n",
            "TCGA.3C.AALK.01    0.711952   -0.454282    0.227441     -0.735552   \n",
            "TCGA.5L.AAT0.01    0.426323   -1.545556   -0.952282     -0.280966   \n",
            "\n",
            "                 hsa.let.7f.2  hsa.let.7g  ...      ZXDA      ZXDB      ZXDC  \\\n",
            "PatientID                                  ...                                 \n",
            "TCGA.3C.AAAU.01     -2.406331   -0.760042  ...  2.020624  1.972719  1.053381   \n",
            "TCGA.3C.AALI.01     -0.651943   -1.050266  ...  4.002085  3.897638  1.589442   \n",
            "TCGA.3C.AALJ.01      1.088164    0.523204  ... -0.319977 -0.301093 -0.477515   \n",
            "TCGA.3C.AALK.01     -0.686623   -1.015715  ... -0.316675 -0.297884 -0.267586   \n",
            "TCGA.5L.AAT0.01     -0.233746   -0.818574  ... -0.307593 -0.289062 -0.200167   \n",
            "\n",
            "                   ZYG11A    ZYG11B       ZYX     ZZEF1      ZZZ3        pk  \\\n",
            "PatientID                                                                     \n",
            "TCGA.3C.AAAU.01  1.254989  1.267331  0.963246 -0.580418  1.715811 -0.864183   \n",
            "TCGA.3C.AALI.01 -1.781406 -1.793233  1.446230 -0.790000 -1.268621  0.345052   \n",
            "TCGA.3C.AALJ.01 -0.867769 -0.872324  0.039191 -1.421040 -0.811368 -1.357237   \n",
            "TCGA.3C.AALK.01  0.055935  0.058733 -0.257130 -1.377441  0.098802  0.042601   \n",
            "TCGA.5L.AAT0.01  0.238663  0.242915 -0.185487 -0.999581  0.204322  0.078553   \n",
            "\n",
            "                 Label  \n",
            "PatientID               \n",
            "TCGA.3C.AAAU.01      1  \n",
            "TCGA.3C.AALI.01      4  \n",
            "TCGA.3C.AALJ.01      2  \n",
            "TCGA.3C.AALK.01      1  \n",
            "TCGA.5L.AAT0.01      1  \n",
            "\n",
            "[5 rows x 38986 columns]\n",
            "Multiomics: (671, 38986)\n",
            "                 hsa.let.7a.1  hsa.let.7a.2  hsa.let.7a.3  hsa.let.7b  \\\n",
            "PatientID                                                               \n",
            "TCGA.3C.AAAU.01      0.068317      0.068932      0.073899    0.524562   \n",
            "TCGA.3C.AALI.01     -0.301684     -0.318009     -0.301310    0.419859   \n",
            "TCGA.3C.AALJ.01     -0.150810     -0.122747     -0.126333   -0.958939   \n",
            "TCGA.3C.AALK.01      0.107831      0.097594      0.095545    0.615389   \n",
            "TCGA.5L.AAT0.01      0.395211      0.412879      0.418441    0.500594   \n",
            "\n",
            "                 hsa.let.7c  hsa.let.7d  hsa.let.7e  hsa.let.7f.1  \\\n",
            "PatientID                                                           \n",
            "TCGA.3C.AAAU.01   -1.656853   -0.038283    0.501125     -2.390084   \n",
            "TCGA.3C.AALI.01   -0.715963    0.460975   -1.999304     -0.659788   \n",
            "TCGA.3C.AALJ.01   -0.971038    0.866585    2.074809      1.080746   \n",
            "TCGA.3C.AALK.01    0.711952   -0.454282    0.227441     -0.735552   \n",
            "TCGA.5L.AAT0.01    0.426323   -1.545556   -0.952282     -0.280966   \n",
            "\n",
            "                 hsa.let.7f.2  hsa.let.7g  ...      ZXDA      ZXDB      ZXDC  \\\n",
            "PatientID                                  ...                                 \n",
            "TCGA.3C.AAAU.01     -2.406331   -0.760042  ...  2.020624  1.972719  1.053381   \n",
            "TCGA.3C.AALI.01     -0.651943   -1.050266  ...  4.002085  3.897638  1.589442   \n",
            "TCGA.3C.AALJ.01      1.088164    0.523204  ... -0.319977 -0.301093 -0.477515   \n",
            "TCGA.3C.AALK.01     -0.686623   -1.015715  ... -0.316675 -0.297884 -0.267586   \n",
            "TCGA.5L.AAT0.01     -0.233746   -0.818574  ... -0.307593 -0.289062 -0.200167   \n",
            "\n",
            "                   ZYG11A    ZYG11B       ZYX     ZZEF1      ZZZ3        pk  \\\n",
            "PatientID                                                                     \n",
            "TCGA.3C.AAAU.01  1.254989  1.267331  0.963246 -0.580418  1.715811 -0.864183   \n",
            "TCGA.3C.AALI.01 -1.781406 -1.793233  1.446230 -0.790000 -1.268621  0.345052   \n",
            "TCGA.3C.AALJ.01 -0.867769 -0.872324  0.039191 -1.421040 -0.811368 -1.357237   \n",
            "TCGA.3C.AALK.01  0.055935  0.058733 -0.257130 -1.377441  0.098802  0.042601   \n",
            "TCGA.5L.AAT0.01  0.238663  0.242915 -0.185487 -0.999581  0.204322  0.078553   \n",
            "\n",
            "                 Label  \n",
            "PatientID               \n",
            "TCGA.3C.AAAU.01      1  \n",
            "TCGA.3C.AALI.01      4  \n",
            "TCGA.3C.AALJ.01      2  \n",
            "TCGA.3C.AALK.01      1  \n",
            "TCGA.5L.AAT0.01      1  \n",
            "\n",
            "[5 rows x 38986 columns]\n"
          ]
        }
      ],
      "source": [
        "# Concatenate along columns axis (axis=1)\n",
        "multiomics = pd.concat([data_miRNA, data_DNA_methylation, data_CNV], axis=1)\n",
        "\n",
        "# Print the shape to verify\n",
        "print(\"Combined BRCA Data Shape:\", multiomics.shape)\n",
        "print(multiomics.head())\n",
        "\n",
        "# Add the 'Label' column from data_label to multiomics\n",
        "multiomics['Label'] = data_label['Label'].to_numpy()\n",
        "\n",
        "# Print the updated multiomics DataFrame\n",
        "print(\"Multiomics:\", multiomics.shape)\n",
        "print(multiomics.head())\n",
        "\n",
        "# Print the shape to verify\n",
        "print(\"Multiomics:\", multiomics.shape)\n",
        "print(multiomics.head())"
      ]
    },
    {
      "cell_type": "markdown",
      "metadata": {
        "id": "bG7wHvT4rAIy"
      },
      "source": [
        "## Treat Imbalance Data without using SMOTE"
      ]
    },
    {
      "cell_type": "code",
      "execution_count": 16,
      "metadata": {
        "id": "G7mpr6Ofq_1H"
      },
      "outputs": [
        {
          "name": "stdout",
          "output_type": "stream",
          "text": [
            "Index(['hsa.let.7a.1', 'hsa.let.7a.2', 'hsa.let.7a.3', 'hsa.let.7b',\n",
            "       'hsa.let.7c', 'hsa.let.7d', 'hsa.let.7e', 'hsa.let.7f.1',\n",
            "       'hsa.let.7f.2', 'hsa.let.7g',\n",
            "       ...\n",
            "       'ZXDA', 'ZXDB', 'ZXDC', 'ZYG11A', 'ZYG11B', 'ZYX', 'ZZEF1', 'ZZZ3',\n",
            "       'pk', 'Label'],\n",
            "      dtype='object', length=38986)\n",
            "Index(['hsa.let.7a.1', 'hsa.let.7a.2', 'hsa.let.7a.3', 'hsa.let.7b',\n",
            "       'hsa.let.7c', 'hsa.let.7d', 'hsa.let.7e', 'hsa.let.7f.1',\n",
            "       'hsa.let.7f.2', 'hsa.let.7g',\n",
            "       ...\n",
            "       'ZXDA', 'ZXDB', 'ZXDC', 'ZYG11A', 'ZYG11B', 'ZYX', 'ZZEF1', 'ZZZ3',\n",
            "       'pk', 'Label'],\n",
            "      dtype='object', length=38986)\n"
          ]
        }
      ],
      "source": [
        "# Split the data into training and testing sets with a test size of 30%\n",
        "train_data, test_data = train_test_split(multiomics,test_size=0.30,random_state=1)\n",
        "target=\"Label\"\n",
        "print(train_data.columns)\n",
        "print(test_data.columns)\n",
        "X_train = train_data.select_dtypes(include=[\"number\"]).copy()\n",
        "y_train = train_data[target]\n",
        "X_test = test_data.select_dtypes(include=[\"number\"]).copy()\n",
        "y_test = test_data[target]"
      ]
    },
    {
      "cell_type": "code",
      "execution_count": 17,
      "metadata": {
        "id": "r3mj-tW0rCW8"
      },
      "outputs": [
        {
          "name": "stdout",
          "output_type": "stream",
          "text": [
            "X train : (469, 38986)\n",
            "X test : (202, 38986)\n",
            "Y train : (469,)\n",
            "Y test : (202,)\n"
          ]
        }
      ],
      "source": [
        "# Print the shapes of the training and testing sets\n",
        "print(\"X train :\", X_train.shape)\n",
        "print(\"X test :\", X_test.shape)\n",
        "print(\"Y train :\", y_train.shape)\n",
        "print(\"Y test :\", y_test.shape)"
      ]
    },
    {
      "cell_type": "code",
      "execution_count": 18,
      "metadata": {
        "id": "PnKmGahErFfF"
      },
      "outputs": [
        {
          "name": "stdout",
          "output_type": "stream",
          "text": [
            "21\n",
            "245\n",
            "96\n",
            "82\n",
            "25\n",
            "(469, 1)\n"
          ]
        }
      ],
      "source": [
        "# Assuming y_train is already defined\n",
        "y_train = pd.DataFrame(y_train, columns=['Label'])\n",
        "# Print the counts of each class in the original training data\n",
        "print(y_train[\"Label\"].value_counts()[0])\n",
        "print(y_train[\"Label\"].value_counts()[1])\n",
        "print(y_train[\"Label\"].value_counts()[2])\n",
        "print(y_train[\"Label\"].value_counts()[3])\n",
        "print(y_train[\"Label\"].value_counts()[4])\n",
        "\n",
        "print(y_train.shape)"
      ]
    },
    {
      "cell_type": "markdown",
      "metadata": {
        "id": "axdi2-QsrIXy"
      },
      "source": [
        " ## Feature Selection using SVM-RFE"
      ]
    },
    {
      "cell_type": "code",
      "execution_count": 19,
      "metadata": {
        "id": "OH7_wBntrILa"
      },
      "outputs": [
        {
          "data": {
            "text/html": [
              "<style>#sk-container-id-1 {color: black;background-color: white;}#sk-container-id-1 pre{padding: 0;}#sk-container-id-1 div.sk-toggleable {background-color: white;}#sk-container-id-1 label.sk-toggleable__label {cursor: pointer;display: block;width: 100%;margin-bottom: 0;padding: 0.3em;box-sizing: border-box;text-align: center;}#sk-container-id-1 label.sk-toggleable__label-arrow:before {content: \"▸\";float: left;margin-right: 0.25em;color: #696969;}#sk-container-id-1 label.sk-toggleable__label-arrow:hover:before {color: black;}#sk-container-id-1 div.sk-estimator:hover label.sk-toggleable__label-arrow:before {color: black;}#sk-container-id-1 div.sk-toggleable__content {max-height: 0;max-width: 0;overflow: hidden;text-align: left;background-color: #f0f8ff;}#sk-container-id-1 div.sk-toggleable__content pre {margin: 0.2em;color: black;border-radius: 0.25em;background-color: #f0f8ff;}#sk-container-id-1 input.sk-toggleable__control:checked~div.sk-toggleable__content {max-height: 200px;max-width: 100%;overflow: auto;}#sk-container-id-1 input.sk-toggleable__control:checked~label.sk-toggleable__label-arrow:before {content: \"▾\";}#sk-container-id-1 div.sk-estimator input.sk-toggleable__control:checked~label.sk-toggleable__label {background-color: #d4ebff;}#sk-container-id-1 div.sk-label input.sk-toggleable__control:checked~label.sk-toggleable__label {background-color: #d4ebff;}#sk-container-id-1 input.sk-hidden--visually {border: 0;clip: rect(1px 1px 1px 1px);clip: rect(1px, 1px, 1px, 1px);height: 1px;margin: -1px;overflow: hidden;padding: 0;position: absolute;width: 1px;}#sk-container-id-1 div.sk-estimator {font-family: monospace;background-color: #f0f8ff;border: 1px dotted black;border-radius: 0.25em;box-sizing: border-box;margin-bottom: 0.5em;}#sk-container-id-1 div.sk-estimator:hover {background-color: #d4ebff;}#sk-container-id-1 div.sk-parallel-item::after {content: \"\";width: 100%;border-bottom: 1px solid gray;flex-grow: 1;}#sk-container-id-1 div.sk-label:hover label.sk-toggleable__label {background-color: #d4ebff;}#sk-container-id-1 div.sk-serial::before {content: \"\";position: absolute;border-left: 1px solid gray;box-sizing: border-box;top: 0;bottom: 0;left: 50%;z-index: 0;}#sk-container-id-1 div.sk-serial {display: flex;flex-direction: column;align-items: center;background-color: white;padding-right: 0.2em;padding-left: 0.2em;position: relative;}#sk-container-id-1 div.sk-item {position: relative;z-index: 1;}#sk-container-id-1 div.sk-parallel {display: flex;align-items: stretch;justify-content: center;background-color: white;position: relative;}#sk-container-id-1 div.sk-item::before, #sk-container-id-1 div.sk-parallel-item::before {content: \"\";position: absolute;border-left: 1px solid gray;box-sizing: border-box;top: 0;bottom: 0;left: 50%;z-index: -1;}#sk-container-id-1 div.sk-parallel-item {display: flex;flex-direction: column;z-index: 1;position: relative;background-color: white;}#sk-container-id-1 div.sk-parallel-item:first-child::after {align-self: flex-end;width: 50%;}#sk-container-id-1 div.sk-parallel-item:last-child::after {align-self: flex-start;width: 50%;}#sk-container-id-1 div.sk-parallel-item:only-child::after {width: 0;}#sk-container-id-1 div.sk-dashed-wrapped {border: 1px dashed gray;margin: 0 0.4em 0.5em 0.4em;box-sizing: border-box;padding-bottom: 0.4em;background-color: white;}#sk-container-id-1 div.sk-label label {font-family: monospace;font-weight: bold;display: inline-block;line-height: 1.2em;}#sk-container-id-1 div.sk-label-container {text-align: center;}#sk-container-id-1 div.sk-container {/* jupyter's `normalize.less` sets `[hidden] { display: none; }` but bootstrap.min.css set `[hidden] { display: none !important; }` so we also need the `!important` here to be able to override the default hidden behavior on the sphinx rendered scikit-learn.org. See: https://github.com/scikit-learn/scikit-learn/issues/21755 */display: inline-block !important;position: relative;}#sk-container-id-1 div.sk-text-repr-fallback {display: none;}</style><div id=\"sk-container-id-1\" class=\"sk-top-container\"><div class=\"sk-text-repr-fallback\"><pre>RFE(estimator=SVC(kernel=&#x27;linear&#x27;), n_features_to_select=18000, step=0.1)</pre><b>In a Jupyter environment, please rerun this cell to show the HTML representation or trust the notebook. <br />On GitHub, the HTML representation is unable to render, please try loading this page with nbviewer.org.</b></div><div class=\"sk-container\" hidden><div class=\"sk-item sk-dashed-wrapped\"><div class=\"sk-label-container\"><div class=\"sk-label sk-toggleable\"><input class=\"sk-toggleable__control sk-hidden--visually\" id=\"sk-estimator-id-1\" type=\"checkbox\" ><label for=\"sk-estimator-id-1\" class=\"sk-toggleable__label sk-toggleable__label-arrow\">RFE</label><div class=\"sk-toggleable__content\"><pre>RFE(estimator=SVC(kernel=&#x27;linear&#x27;), n_features_to_select=18000, step=0.1)</pre></div></div></div><div class=\"sk-parallel\"><div class=\"sk-parallel-item\"><div class=\"sk-item\"><div class=\"sk-label-container\"><div class=\"sk-label sk-toggleable\"><input class=\"sk-toggleable__control sk-hidden--visually\" id=\"sk-estimator-id-2\" type=\"checkbox\" ><label for=\"sk-estimator-id-2\" class=\"sk-toggleable__label sk-toggleable__label-arrow\">estimator: SVC</label><div class=\"sk-toggleable__content\"><pre>SVC(kernel=&#x27;linear&#x27;)</pre></div></div></div><div class=\"sk-serial\"><div class=\"sk-item\"><div class=\"sk-estimator sk-toggleable\"><input class=\"sk-toggleable__control sk-hidden--visually\" id=\"sk-estimator-id-3\" type=\"checkbox\" ><label for=\"sk-estimator-id-3\" class=\"sk-toggleable__label sk-toggleable__label-arrow\">SVC</label><div class=\"sk-toggleable__content\"><pre>SVC(kernel=&#x27;linear&#x27;)</pre></div></div></div></div></div></div></div></div></div></div>"
            ],
            "text/plain": [
              "RFE(estimator=SVC(kernel='linear'), n_features_to_select=18000, step=0.1)"
            ]
          },
          "execution_count": 19,
          "metadata": {},
          "output_type": "execute_result"
        }
      ],
      "source": [
        "# Define the SVM model\n",
        "model = SVC(kernel=\"linear\")\n",
        "\n",
        "# Define RFE with the SVM model, choosing a number of features to select\n",
        "rfe = RFE(estimator=model, n_features_to_select=18000, step=0.1)\n",
        "\n",
        "# Fit RFE on the training data\n",
        "rfe.fit(X_train, y_train.values.ravel())"
      ]
    },
    {
      "cell_type": "code",
      "execution_count": 21,
      "metadata": {
        "id": "7R1sdQxtrLq7"
      },
      "outputs": [
        {
          "name": "stdout",
          "output_type": "stream",
          "text": [
            "X_train after RFE: (469, 18000)\n",
            "X_test after RFE: (202, 18000)\n",
            "X_train_rfe_multiomics after converting to DataFrame: (469, 18000)\n",
            "X_test_rfe_multiomics after converting to DataFrame: (202, 18000)\n"
          ]
        }
      ],
      "source": [
        "# Ensure all column names are strings\n",
        "X_train.columns = X_train.columns.astype(str)\n",
        "X_test.columns = X_test.columns.astype(str)\n",
        "\n",
        "# Transform the training and test sets to include only the selected features\n",
        "x_train_rfe_multiomics = rfe.transform(X_train)\n",
        "x_test_rfe_multiomics = rfe.transform(X_test)\n",
        "\n",
        "print(\"X_train after RFE:\", x_train_rfe_multiomics.shape)\n",
        "print(\"X_test after RFE:\", x_test_rfe_multiomics.shape)\n",
        "\n",
        "# Convert the transformed arrays back to DataFrames and obtain the selected feature names\n",
        "selected_features_multiomics = X_train.columns[rfe.support_]\n",
        "\n",
        "X_train_rfe_multiomics = pd.DataFrame(x_train_rfe_multiomics, columns=selected_features_multiomics, index=X_train.index)\n",
        "X_test_rfe_multiomics = pd.DataFrame(x_test_rfe_multiomics, columns=selected_features_multiomics, index=X_test.index)\n",
        "\n",
        "print(\"X_train_rfe_multiomics after converting to DataFrame:\", X_train_rfe_multiomics.shape)\n",
        "print(\"X_test_rfe_multiomics after converting to DataFrame:\", X_test_rfe_multiomics.shape)\n"
      ]
    },
    {
      "cell_type": "markdown",
      "metadata": {
        "id": "OjyFQQBTrUD0"
      },
      "source": [
        "## SDAE"
      ]
    },
    {
      "cell_type": "code",
      "execution_count": 23,
      "metadata": {
        "id": "jKlzXxtkrVdX"
      },
      "outputs": [
        {
          "name": "stdout",
          "output_type": "stream",
          "text": [
            "Epoch 1/250\n",
            "15/15 [==============================] - 18s 405ms/step - loss: 0.9990 - val_loss: 0.8471\n",
            "Epoch 2/250\n",
            "15/15 [==============================] - 1s 80ms/step - loss: 0.8617 - val_loss: 0.7918\n",
            "Epoch 3/250\n",
            "15/15 [==============================] - 1s 61ms/step - loss: 0.8232 - val_loss: 0.7745\n",
            "Epoch 4/250\n",
            "15/15 [==============================] - 1s 97ms/step - loss: 0.7870 - val_loss: 0.7593\n",
            "Epoch 5/250\n",
            "15/15 [==============================] - 1s 76ms/step - loss: 0.7645 - val_loss: 0.7495\n",
            "Epoch 6/250\n",
            "15/15 [==============================] - 1s 90ms/step - loss: 0.7471 - val_loss: 0.7454\n",
            "Epoch 7/250\n",
            "15/15 [==============================] - 1s 59ms/step - loss: 0.7349 - val_loss: 0.7442\n",
            "Epoch 8/250\n",
            "15/15 [==============================] - 1s 72ms/step - loss: 0.7236 - val_loss: 0.7426\n",
            "Epoch 9/250\n",
            "15/15 [==============================] - 1s 57ms/step - loss: 0.7105 - val_loss: 0.7405\n",
            "Epoch 10/250\n",
            "15/15 [==============================] - 1s 62ms/step - loss: 0.6959 - val_loss: 0.7406\n",
            "Epoch 11/250\n",
            "15/15 [==============================] - 1s 56ms/step - loss: 0.6858 - val_loss: 0.7401\n",
            "Epoch 12/250\n",
            "15/15 [==============================] - 1s 61ms/step - loss: 0.6756 - val_loss: 0.7409\n",
            "Epoch 13/250\n",
            "15/15 [==============================] - 1s 57ms/step - loss: 0.6665 - val_loss: 0.7431\n",
            "Epoch 14/250\n",
            "15/15 [==============================] - 1s 65ms/step - loss: 0.6577 - val_loss: 0.7445\n",
            "Epoch 15/250\n",
            "15/15 [==============================] - 1s 70ms/step - loss: 0.6492 - val_loss: 0.7469\n",
            "Epoch 16/250\n",
            "15/15 [==============================] - 1s 65ms/step - loss: 0.6440 - val_loss: 0.7466\n",
            "Epoch 17/250\n",
            "15/15 [==============================] - 1s 59ms/step - loss: 0.6364 - val_loss: 0.7481\n",
            "Epoch 18/250\n",
            "15/15 [==============================] - 1s 59ms/step - loss: 0.6330 - val_loss: 0.7508\n",
            "Epoch 19/250\n",
            "15/15 [==============================] - 1s 84ms/step - loss: 0.6243 - val_loss: 0.7482\n",
            "Epoch 20/250\n",
            "15/15 [==============================] - 1s 76ms/step - loss: 0.6177 - val_loss: 0.7532\n",
            "Epoch 21/250\n",
            "15/15 [==============================] - 1s 95ms/step - loss: 0.6144 - val_loss: 0.7530\n",
            "15/15 [==============================] - 1s 15ms/step\n",
            "7/7 [==============================] - 0s 9ms/step\n"
          ]
        }
      ],
      "source": [
        "from keras.models import Model, Sequential\n",
        "from keras.layers import Input, Dense, Dropout\n",
        "from keras.callbacks import EarlyStopping\n",
        "\n",
        "# Reshape data to 3D for SDAE (samples, timesteps, features)\n",
        "X_resampled_multiomics_sdae = X_train_rfe_multiomics.values.reshape((X_train_rfe_multiomics.shape[0], X_train_rfe_multiomics.shape[1], 1))\n",
        "X_test_rfe_multiomics_sdae = X_test_rfe_multiomics.values.reshape((X_test_rfe_multiomics.shape[0], X_test_rfe_multiomics.shape[1], 1))\n",
        "\n",
        "# Define the architecture parameters\n",
        "input_dim = X_resampled_multiomics_sdae.shape[1]\n",
        "hidden1_dim = 64\n",
        "hidden2_dim = 32\n",
        "encoding_dim = 16\n",
        "\n",
        "# Define early stopping\n",
        "early_stopping = EarlyStopping(monitor='val_loss', patience=10)\n",
        "\n",
        "# Build the SDAE model\n",
        "input_layer = Input(shape=(input_dim,))\n",
        "hidden1 = Dense(hidden1_dim, activation='relu')(input_layer)\n",
        "encoded1 = Dense(hidden2_dim, activation='relu')(hidden1)\n",
        "encoded2 = Dense(encoding_dim, activation='relu')(encoded1)\n",
        "decoded1 = Dense(hidden2_dim, activation='relu')(encoded2)\n",
        "decoded2 = Dense(hidden1_dim, activation='relu')(decoded1)\n",
        "output_layer = Dense(input_dim, activation='linear')(decoded2)\n",
        "\n",
        "sdae = Model(inputs=input_layer, outputs=output_layer)\n",
        "\n",
        "# Compile the SDAE model\n",
        "sdae.compile(optimizer='adam', loss='mean_squared_error')\n",
        "\n",
        "# Train the SDAE\n",
        "sdae.fit(X_resampled_multiomics_sdae, X_resampled_multiomics_sdae, epochs=250, batch_size=32, shuffle=True, validation_data=(X_test_rfe_multiomics_sdae, X_test_rfe_multiomics_sdae), callbacks=[early_stopping])\n",
        "\n",
        "# Use the SDAE to transform the data\n",
        "X_train_transformed = sdae.predict(X_resampled_multiomics_sdae)\n",
        "X_test_transformed = sdae.predict(X_test_rfe_multiomics_sdae)"
      ]
    },
    {
      "cell_type": "markdown",
      "metadata": {
        "id": "7DguFVuJsMsA"
      },
      "source": [
        "## Classifier Analysis"
      ]
    },
    {
      "cell_type": "code",
      "execution_count": 26,
      "metadata": {
        "id": "frm94EKEsM0d"
      },
      "outputs": [
        {
          "name": "stderr",
          "output_type": "stream",
          "text": [
            "C:\\Users\\Nisha Mustafa\\AppData\\Local\\Packages\\PythonSoftwareFoundation.Python.3.10_qbz5n2kfra8p0\\LocalCache\\local-packages\\Python310\\site-packages\\sklearn\\utils\\validation.py:1141: DataConversionWarning: A column-vector y was passed when a 1d array was expected. Please change the shape of y to (n_samples, ), for example using ravel().\n",
            "  y = column_or_1d(y, warn=True)\n"
          ]
        },
        {
          "name": "stdout",
          "output_type": "stream",
          "text": [
            "SDAE Model Accuracy: 0.6782178217821783\n",
            "SDAE Model Precision: 0.6607855082938805\n",
            "SDAE Model Recall: 0.6782178217821783\n"
          ]
        }
      ],
      "source": [
        "# Define a new classifier (e.g., SVM) to classify the transformed data\n",
        "clf = SVC(kernel='linear')\n",
        "clf.fit(X_train_transformed, y_train)\n",
        "\n",
        "# Make predictions\n",
        "y_pred_sdae = clf.predict(X_test_transformed)\n",
        "\n",
        "# Evaluate the classifier\n",
        "accuracy_sdae = accuracy_score(y_test, y_pred_sdae)\n",
        "precision_sdae = precision_score(y_test, y_pred_sdae, average='weighted')\n",
        "recall_sdae = recall_score(y_test, y_pred_sdae, average='weighted')\n",
        "print(f\"SDAE Model Accuracy: {accuracy_sdae}\")\n",
        "print(f\"SDAE Model Precision: {precision_sdae}\")\n",
        "print(f\"SDAE Model Recall: {recall_sdae}\")"
      ]
    },
    {
      "cell_type": "code",
      "execution_count": 27,
      "metadata": {
        "id": "Qx6Al_s3wNxZ"
      },
      "outputs": [
        {
          "name": "stdout",
          "output_type": "stream",
          "text": [
            "\n",
            "Confusion Matrix:\n",
            "[[ 4  4  0  2  0]\n",
            " [ 4 88 14  0  2]\n",
            " [ 2 22 11  1  0]\n",
            " [ 0  0  0 27  4]\n",
            " [ 1  5  2  2  7]]\n",
            "\n",
            "Classification Report:\n",
            "\n",
            "Label: 0\n",
            "precision: 0.3636\n",
            "recall: 0.4000\n",
            "f1-score: 0.3810\n",
            "support: 10.0000\n",
            "\n",
            "Label: 1\n",
            "precision: 0.7395\n",
            "recall: 0.8148\n",
            "f1-score: 0.7753\n",
            "support: 108.0000\n",
            "\n",
            "Label: 2\n",
            "precision: 0.4074\n",
            "recall: 0.3056\n",
            "f1-score: 0.3492\n",
            "support: 36.0000\n",
            "\n",
            "Label: 3\n",
            "precision: 0.8438\n",
            "recall: 0.8710\n",
            "f1-score: 0.8571\n",
            "support: 31.0000\n",
            "\n",
            "Label: 4\n",
            "precision: 0.5385\n",
            "recall: 0.4118\n",
            "f1-score: 0.4667\n",
            "support: 17.0000\n",
            "accuracy: 0.6782\n",
            "\n",
            "Label: macro avg\n",
            "precision: 0.5786\n",
            "recall: 0.5606\n",
            "f1-score: 0.5659\n",
            "support: 202.0000\n",
            "\n",
            "Label: weighted avg\n",
            "precision: 0.6608\n",
            "recall: 0.6782\n",
            "f1-score: 0.6664\n",
            "support: 202.0000\n"
          ]
        },
        {
          "data": {
            "image/png": "[encoded data removed]",
            "text/plain": [
              "<Figure size 800x600 with 2 Axes>"
            ]
          },
          "metadata": {},
          "output_type": "display_data"
        }
      ],
      "source": [
        "from sklearn.metrics import classification_report, confusion_matrix\n",
        "import seaborn as sns\n",
        "import matplotlib.pyplot as plt\n",
        "\n",
        "# Confusion Matrix\n",
        "print(\"\\nConfusion Matrix:\")\n",
        "cm = confusion_matrix(y_test, y_pred_sdae)\n",
        "print(cm)\n",
        "\n",
        "# Classification Report with more precision\n",
        "report = classification_report(y_test, y_pred_sdae, output_dict=True)\n",
        "\n",
        "print(\"\\nClassification Report:\")\n",
        "for label, metrics in report.items():\n",
        "    if isinstance(metrics, dict):\n",
        "        print(f\"\\nLabel: {label}\")\n",
        "        for metric, value in metrics.items():\n",
        "            print(f\"{metric}: {value:.4f}\")\n",
        "    else:\n",
        "        print(f\"{label}: {metrics:.4f}\")\n",
        "\n",
        "# Plot Confusion Matrix\n",
        "plt.figure(figsize=(8, 6))\n",
        "sns.heatmap(cm, annot=True, fmt='d', cmap='Blues')\n",
        "plt.title('Confusion Matrix')\n",
        "plt.xlabel('Predicted')\n",
        "plt.ylabel('Actual')\n",
        "plt.show()\n"
      ]
    }
  ],
  "metadata": {
    "colab": {
      "provenance": []
    },
    "kernelspec": {
      "display_name": "Python 3",
      "name": "python3"
    },
    "language_info": {
      "codemirror_mode": {
        "name": "ipython",
        "version": 3
      },
      "file_extension": ".py",
      "mimetype": "text/x-python",
      "name": "python",
      "nbconvert_exporter": "python",
      "pygments_lexer": "ipython3",
      "version": "3.10.11"
    }
  },
  "nbformat": 4,
  "nbformat_minor": 0
}
